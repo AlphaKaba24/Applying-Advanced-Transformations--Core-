{
 "cells": [
  {
   "cell_type": "code",
   "execution_count": null,
   "id": "261b8f38",
   "metadata": {
    "ExecuteTime": {
     "end_time": "2022-08-11T15:40:35.404453Z",
     "start_time": "2022-08-11T15:40:35.401463Z"
    }
   },
   "outputs": [],
   "source": [
    "import numpy as np\n",
    "import pandas as pd\n",
    "import matplotlib.pyplot as plt\n",
    "import seaborn as sns\n",
    "import os,json"
   ]
  },
  {
   "cell_type": "code",
   "execution_count": null,
   "id": "e1123804",
   "metadata": {
    "ExecuteTime": {
     "end_time": "2022-08-11T15:40:35.578380Z",
     "start_time": "2022-08-11T15:40:35.558434Z"
    }
   },
   "outputs": [],
   "source": [
    "df = pd.read_csv('superhero_info - superhero_info.csv')\n",
    "\n",
    "df.head()"
   ]
  },
  {
   "cell_type": "code",
   "execution_count": null,
   "id": "12603d12",
   "metadata": {
    "ExecuteTime": {
     "end_time": "2022-08-11T15:40:35.717692Z",
     "start_time": "2022-08-11T15:40:35.696742Z"
    }
   },
   "outputs": [],
   "source": [
    "df.info()"
   ]
  },
  {
   "cell_type": "code",
   "execution_count": null,
   "id": "f9c6d832",
   "metadata": {
    "ExecuteTime": {
     "end_time": "2022-08-11T15:40:35.857984Z",
     "start_time": "2022-08-11T15:40:35.851003Z"
    }
   },
   "outputs": [],
   "source": [
    "df = df.dropna()"
   ]
  },
  {
   "cell_type": "code",
   "execution_count": null,
   "id": "8d9a98f0",
   "metadata": {
    "ExecuteTime": {
     "end_time": "2022-08-11T15:40:36.014137Z",
     "start_time": "2022-08-11T15:40:36.007184Z"
    }
   },
   "outputs": [],
   "source": [
    "df.isnull().sum()"
   ]
  },
  {
   "cell_type": "code",
   "execution_count": null,
   "id": "b602239a",
   "metadata": {
    "ExecuteTime": {
     "end_time": "2022-08-11T15:40:36.170387Z",
     "start_time": "2022-08-11T15:40:36.150442Z"
    }
   },
   "outputs": [],
   "source": [
    "df['Hero|Publisher'].head(2)"
   ]
  },
  {
   "cell_type": "code",
   "execution_count": null,
   "id": "b05c9312",
   "metadata": {
    "ExecuteTime": {
     "end_time": "2022-08-11T15:40:36.510678Z",
     "start_time": "2022-08-11T15:40:36.487709Z"
    }
   },
   "outputs": [],
   "source": [
    "df['Hero|Publisher'].str.split('|', expand=True)"
   ]
  },
  {
   "cell_type": "code",
   "execution_count": null,
   "id": "51f39c5e",
   "metadata": {
    "ExecuteTime": {
     "end_time": "2022-08-11T15:40:36.651828Z",
     "start_time": "2022-08-11T15:40:36.631951Z"
    }
   },
   "outputs": [],
   "source": [
    "df[['Hero', 'Publisher']] = df['Hero|Publisher'].str.split('|', expand=True)\n",
    "df.head(2)"
   ]
  },
  {
   "cell_type": "code",
   "execution_count": null,
   "id": "939371ce",
   "metadata": {
    "ExecuteTime": {
     "end_time": "2022-08-11T15:40:37.225026Z",
     "start_time": "2022-08-11T15:40:37.215066Z"
    },
    "scrolled": true
   },
   "outputs": [],
   "source": [
    "df = df.drop(columns=['Hero|Publisher'])\n",
    "df.head(2)"
   ]
  },
  {
   "cell_type": "code",
   "execution_count": null,
   "id": "f14755b5",
   "metadata": {
    "ExecuteTime": {
     "end_time": "2022-08-11T15:40:37.490419Z",
     "start_time": "2022-08-11T15:40:37.472470Z"
    }
   },
   "outputs": [],
   "source": [
    "meas = df.loc[0,\"Measurements\"]\n",
    "\n",
    "print(type(meas))\n",
    "\n",
    "meas"
   ]
  },
  {
   "cell_type": "code",
   "execution_count": null,
   "id": "e79c127d",
   "metadata": {
    "ExecuteTime": {
     "end_time": "2022-08-11T15:40:37.848160Z",
     "start_time": "2022-08-11T15:40:37.833234Z"
    }
   },
   "outputs": [],
   "source": [
    "meas = meas.replace(\"'\",'\"')\n",
    "meas"
   ]
  },
  {
   "cell_type": "code",
   "execution_count": null,
   "id": "3022a259",
   "metadata": {
    "ExecuteTime": {
     "end_time": "2022-08-11T15:40:38.112379Z",
     "start_time": "2022-08-11T15:40:38.101386Z"
    }
   },
   "outputs": [],
   "source": [
    "fixed_meas = json.loads(meas)\n",
    "print(type(fixed_meas))\n",
    "fixed_meas"
   ]
  },
  {
   "cell_type": "code",
   "execution_count": null,
   "id": "46bd4509",
   "metadata": {
    "ExecuteTime": {
     "end_time": "2022-08-11T15:40:38.513412Z",
     "start_time": "2022-08-11T15:40:38.495433Z"
    }
   },
   "outputs": [],
   "source": [
    "df['Measurements'] = df['Measurements'].str.replace(\"'\",'\"')\n",
    "\n",
    "df['Measurements'] = df['Measurements'].apply(json.loads)\n",
    "df['Measurements'].head()"
   ]
  },
  {
   "cell_type": "code",
   "execution_count": null,
   "id": "9c3013eb",
   "metadata": {
    "ExecuteTime": {
     "end_time": "2022-08-11T15:40:38.761833Z",
     "start_time": "2022-08-11T15:40:38.742885Z"
    }
   },
   "outputs": [],
   "source": [
    "test_meas = df.loc[0, 'Measurements']\n",
    "print(type(test_meas))\n",
    "test_meas"
   ]
  },
  {
   "cell_type": "code",
   "execution_count": null,
   "id": "acc4da91",
   "metadata": {
    "ExecuteTime": {
     "end_time": "2022-08-11T15:40:39.322797Z",
     "start_time": "2022-08-11T15:40:39.217108Z"
    }
   },
   "outputs": [],
   "source": [
    "height_weight = df['Measurements'].apply(pd.Series)\n",
    "height_weight"
   ]
  },
  {
   "cell_type": "code",
   "execution_count": null,
   "id": "76c3f458",
   "metadata": {
    "ExecuteTime": {
     "end_time": "2022-08-11T15:40:39.512963Z",
     "start_time": "2022-08-11T15:40:39.494040Z"
    }
   },
   "outputs": [],
   "source": [
    "df = pd.concat((df, height_weight), axis=1)\n",
    "df.head(2)"
   ]
  },
  {
   "cell_type": "code",
   "execution_count": null,
   "id": "5afbfb26",
   "metadata": {
    "ExecuteTime": {
     "end_time": "2022-08-11T15:40:39.854341Z",
     "start_time": "2022-08-11T15:40:39.833372Z"
    }
   },
   "outputs": [],
   "source": [
    "df = df.drop(columns=['Measurements'])\n",
    "df.head(2)"
   ]
  },
  {
   "cell_type": "code",
   "execution_count": null,
   "id": "16394761",
   "metadata": {
    "ExecuteTime": {
     "end_time": "2022-08-11T15:40:40.226832Z",
     "start_time": "2022-08-11T15:40:40.202889Z"
    }
   },
   "outputs": [],
   "source": [
    "df2 = pd.read_csv('superhero_powers - superhero_powers.csv')\n",
    "df2.head(2)"
   ]
  },
  {
   "cell_type": "code",
   "execution_count": null,
   "id": "d136db17",
   "metadata": {
    "ExecuteTime": {
     "end_time": "2022-08-11T15:40:40.677381Z",
     "start_time": "2022-08-11T15:40:40.670400Z"
    }
   },
   "outputs": [],
   "source": [
    "df2['Powers'].value_counts"
   ]
  },
  {
   "cell_type": "code",
   "execution_count": null,
   "id": "b77468dd",
   "metadata": {
    "ExecuteTime": {
     "end_time": "2022-08-11T15:40:41.066428Z",
     "start_time": "2022-08-11T15:40:41.050470Z"
    },
    "scrolled": true
   },
   "outputs": [],
   "source": [
    "df2['powers_split'] = df2['Powers'].str.split(',')"
   ]
  },
  {
   "cell_type": "code",
   "execution_count": null,
   "id": "a9a14c71",
   "metadata": {
    "ExecuteTime": {
     "end_time": "2022-08-11T15:40:41.654362Z",
     "start_time": "2022-08-11T15:40:41.638419Z"
    },
    "scrolled": true
   },
   "outputs": [],
   "source": [
    "df2['powers_split']"
   ]
  },
  {
   "cell_type": "code",
   "execution_count": null,
   "id": "211a37cd",
   "metadata": {
    "ExecuteTime": {
     "end_time": "2022-08-11T15:40:42.044758Z",
     "start_time": "2022-08-11T15:40:42.021838Z"
    }
   },
   "outputs": [],
   "source": [
    "exploded_powers = df2.explode('powers_split')\n",
    "exploded_powers"
   ]
  },
  {
   "cell_type": "code",
   "execution_count": null,
   "id": "0a3b77c4",
   "metadata": {
    "ExecuteTime": {
     "end_time": "2022-08-11T15:40:42.434706Z",
     "start_time": "2022-08-11T15:40:42.426699Z"
    }
   },
   "outputs": [],
   "source": [
    "unique_powers = sorted(exploded_powers['powers_split'].unique())"
   ]
  },
  {
   "cell_type": "code",
   "execution_count": null,
   "id": "32c128b2",
   "metadata": {
    "ExecuteTime": {
     "end_time": "2022-08-11T15:40:44.515384Z",
     "start_time": "2022-08-11T15:40:44.500424Z"
    }
   },
   "outputs": [],
   "source": [
    "power_ints = range(len(unique_powers))\n",
    "power_map = dict(zip(unique_powers, power_ints))\n",
    "power_map"
   ]
  },
  {
   "cell_type": "code",
   "execution_count": null,
   "id": "c0627c4c",
   "metadata": {
    "ExecuteTime": {
     "end_time": "2022-08-11T15:40:45.584949Z",
     "start_time": "2022-08-11T15:40:45.574975Z"
    }
   },
   "outputs": [],
   "source": [
    "power_lookup = pd.DataFrame({'Power_Name': power_map.keys(), 'Power_ID': power_map.values()})\n",
    "power_lookup.head()"
   ]
  },
  {
   "cell_type": "code",
   "execution_count": null,
   "id": "668c4dde",
   "metadata": {
    "ExecuteTime": {
     "end_time": "2022-08-11T15:40:47.360981Z",
     "start_time": "2022-08-11T15:40:47.345024Z"
    }
   },
   "outputs": [],
   "source": [
    "power_array = exploded_powers['powers_split'].dropna().unique()"
   ]
  },
  {
   "cell_type": "code",
   "execution_count": null,
   "id": "6f1f8a4a",
   "metadata": {
    "ExecuteTime": {
     "end_time": "2022-08-11T15:40:48.456975Z",
     "start_time": "2022-08-11T15:40:47.800639Z"
    }
   },
   "outputs": [],
   "source": [
    "for col in power_array:\n",
    "     df2[col] = df2['Powers'].str.contains(col) "
   ]
  },
  {
   "cell_type": "code",
   "execution_count": null,
   "id": "40b6c7c8",
   "metadata": {
    "ExecuteTime": {
     "end_time": "2022-08-11T15:40:51.778711Z",
     "start_time": "2022-08-11T15:40:51.750784Z"
    }
   },
   "outputs": [],
   "source": [
    "df2.head()"
   ]
  },
  {
   "cell_type": "code",
   "execution_count": null,
   "id": "79ce2a61",
   "metadata": {
    "ExecuteTime": {
     "end_time": "2022-08-11T15:40:54.076326Z",
     "start_time": "2022-08-11T15:40:54.064361Z"
    }
   },
   "outputs": [],
   "source": [
    "df2 = df2.drop(columns=['powers_split', 'hero_names'])"
   ]
  },
  {
   "cell_type": "code",
   "execution_count": null,
   "id": "a5f30cbe",
   "metadata": {
    "ExecuteTime": {
     "end_time": "2022-08-11T15:40:54.732319Z",
     "start_time": "2022-08-11T15:40:54.703397Z"
    },
    "scrolled": true
   },
   "outputs": [],
   "source": [
    "df2"
   ]
  },
  {
   "cell_type": "code",
   "execution_count": null,
   "id": "f8551b51",
   "metadata": {
    "ExecuteTime": {
     "end_time": "2022-08-11T15:40:58.532853Z",
     "start_time": "2022-08-11T15:40:58.510883Z"
    },
    "scrolled": true
   },
   "outputs": [],
   "source": [
    "df"
   ]
  },
  {
   "cell_type": "code",
   "execution_count": null,
   "id": "09584c80",
   "metadata": {
    "ExecuteTime": {
     "end_time": "2022-08-11T15:41:01.414308Z",
     "start_time": "2022-08-11T15:41:01.404334Z"
    }
   },
   "outputs": [],
   "source": [
    "## get the unique ids\n",
    "unique_names = sorted(df['Hero'].unique())\n",
    "unique_names[:3]"
   ]
  },
  {
   "cell_type": "code",
   "execution_count": null,
   "id": "6bbee021",
   "metadata": {
    "ExecuteTime": {
     "end_time": "2022-08-11T15:41:01.818410Z",
     "start_time": "2022-08-11T15:41:01.811434Z"
    }
   },
   "outputs": [],
   "source": [
    "## make integers for each id\n",
    "int_names = range(len(unique_names))\n",
    "int_names"
   ]
  },
  {
   "cell_type": "code",
   "execution_count": null,
   "id": "d1888d54",
   "metadata": {
    "ExecuteTime": {
     "end_time": "2022-08-11T15:41:02.023387Z",
     "start_time": "2022-08-11T15:41:02.011393Z"
    }
   },
   "outputs": [],
   "source": [
    "## Converting our range to a list and showing the first 10 values\n",
    "example_range = list(int_names)\n",
    "example_range[:10]"
   ]
  },
  {
   "cell_type": "code",
   "execution_count": null,
   "id": "43914bc2",
   "metadata": {
    "ExecuteTime": {
     "end_time": "2022-08-11T15:41:02.564354Z",
     "start_time": "2022-08-11T15:41:02.546401Z"
    },
    "scrolled": false
   },
   "outputs": [],
   "source": [
    "# Zip together the unique_ids as the keys and the int_ids as the values\n",
    "id_map = dict(zip(unique_names,int_names))\n",
    "id_map"
   ]
  },
  {
   "cell_type": "code",
   "execution_count": null,
   "id": "758bec10",
   "metadata": {
    "ExecuteTime": {
     "end_time": "2022-08-11T15:42:03.964291Z",
     "start_time": "2022-08-11T15:42:03.925396Z"
    }
   },
   "outputs": [],
   "source": [
    "df2['Powers'] = df2['Powers'].replace(id_map)\n",
    "df2.head(3)"
   ]
  },
  {
   "cell_type": "code",
   "execution_count": null,
   "id": "701e4fb5",
   "metadata": {
    "ExecuteTime": {
     "end_time": "2022-08-11T15:42:15.593407Z",
     "start_time": "2022-08-11T15:42:15.578446Z"
    }
   },
   "outputs": [],
   "source": [
    "final_df = pd.concat([df2, df], axis=0)"
   ]
  },
  {
   "cell_type": "code",
   "execution_count": null,
   "id": "f60dfe0a",
   "metadata": {
    "ExecuteTime": {
     "end_time": "2022-08-11T15:42:17.144460Z",
     "start_time": "2022-08-11T15:42:17.119527Z"
    }
   },
   "outputs": [],
   "source": [
    "final_df"
   ]
  },
  {
   "cell_type": "code",
   "execution_count": null,
   "id": "ae18ba91",
   "metadata": {
    "ExecuteTime": {
     "end_time": "2022-08-11T15:42:32.196515Z",
     "start_time": "2022-08-11T15:42:30.714450Z"
    }
   },
   "outputs": [],
   "source": [
    "final_df['Height'].mean(skipna=True)"
   ]
  },
  {
   "cell_type": "code",
   "execution_count": null,
   "id": "f38cd628",
   "metadata": {
    "ExecuteTime": {
     "end_time": "2022-08-11T15:42:33.268098Z",
     "start_time": "2022-08-11T15:42:33.184327Z"
    }
   },
   "outputs": [],
   "source": [
    "final_df['Weight'].mean(skipna=True)"
   ]
  }
 ],
 "metadata": {
  "hide_input": false,
  "kernelspec": {
   "display_name": "Python (dojo-env)",
   "language": "python",
   "name": "dojo-env"
  },
  "language_info": {
   "codemirror_mode": {
    "name": "ipython",
    "version": 3
   },
   "file_extension": ".py",
   "mimetype": "text/x-python",
   "name": "python",
   "nbconvert_exporter": "python",
   "pygments_lexer": "ipython3",
   "version": "3.8.13"
  },
  "latex_envs": {
   "LaTeX_envs_menu_present": true,
   "autoclose": false,
   "autocomplete": true,
   "bibliofile": "biblio.bib",
   "cite_by": "apalike",
   "current_citInitial": 1,
   "eqLabelWithNumbers": true,
   "eqNumInitial": 1,
   "hotkeys": {
    "equation": "Ctrl-E",
    "itemize": "Ctrl-I"
   },
   "labels_anchors": false,
   "latex_user_defs": false,
   "report_style_numbering": false,
   "user_envs_cfg": false
  },
  "nbTranslate": {
   "displayLangs": [
    "*"
   ],
   "hotkey": "alt-t",
   "langInMainMenu": true,
   "sourceLang": "en",
   "targetLang": "fr",
   "useGoogleTranslate": true
  },
  "toc": {
   "base_numbering": 1,
   "nav_menu": {},
   "number_sections": false,
   "sideBar": true,
   "skip_h1_title": false,
   "title_cell": "Table of Contents",
   "title_sidebar": "Contents",
   "toc_cell": false,
   "toc_position": {},
   "toc_section_display": true,
   "toc_window_display": false
  },
  "varInspector": {
   "cols": {
    "lenName": 16,
    "lenType": 16,
    "lenVar": 40
   },
   "kernels_config": {
    "python": {
     "delete_cmd_postfix": "",
     "delete_cmd_prefix": "del ",
     "library": "var_list.py",
     "varRefreshCmd": "print(var_dic_list())"
    },
    "r": {
     "delete_cmd_postfix": ") ",
     "delete_cmd_prefix": "rm(",
     "library": "var_list.r",
     "varRefreshCmd": "cat(var_dic_list()) "
    }
   },
   "types_to_exclude": [
    "module",
    "function",
    "builtin_function_or_method",
    "instance",
    "_Feature"
   ],
   "window_display": false
  }
 },
 "nbformat": 4,
 "nbformat_minor": 5
}
