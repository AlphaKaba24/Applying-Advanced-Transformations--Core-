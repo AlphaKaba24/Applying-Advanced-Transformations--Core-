{
 "cells": [
  {
   "cell_type": "code",
   "execution_count": 12,
   "id": "261b8f38",
   "metadata": {
    "ExecuteTime": {
     "end_time": "2022-08-04T05:02:48.978654Z",
     "start_time": "2022-08-04T05:02:48.972703Z"
    }
   },
   "outputs": [],
   "source": [
    "import numpy as np\n",
    "import pandas as pd\n",
    "import matplotlib.pyplot as plt\n",
    "import seaborn as sns\n",
    "import os,json"
   ]
  },
  {
   "cell_type": "code",
   "execution_count": 13,
   "id": "e1123804",
   "metadata": {
    "ExecuteTime": {
     "end_time": "2022-08-04T05:02:49.070909Z",
     "start_time": "2022-08-04T05:02:48.986589Z"
    }
   },
   "outputs": [
    {
     "data": {
      "text/html": [
       "<div>\n",
       "<style scoped>\n",
       "    .dataframe tbody tr th:only-of-type {\n",
       "        vertical-align: middle;\n",
       "    }\n",
       "\n",
       "    .dataframe tbody tr th {\n",
       "        vertical-align: top;\n",
       "    }\n",
       "\n",
       "    .dataframe thead th {\n",
       "        text-align: right;\n",
       "    }\n",
       "</style>\n",
       "<table border=\"1\" class=\"dataframe\">\n",
       "  <thead>\n",
       "    <tr style=\"text-align: right;\">\n",
       "      <th></th>\n",
       "      <th>Hero|Publisher</th>\n",
       "      <th>Gender</th>\n",
       "      <th>Race</th>\n",
       "      <th>Alignment</th>\n",
       "      <th>Hair color</th>\n",
       "      <th>Eye color</th>\n",
       "      <th>Skin color</th>\n",
       "      <th>Measurements</th>\n",
       "    </tr>\n",
       "  </thead>\n",
       "  <tbody>\n",
       "    <tr>\n",
       "      <th>0</th>\n",
       "      <td>A-Bomb|Marvel Comics</td>\n",
       "      <td>Male</td>\n",
       "      <td>Human</td>\n",
       "      <td>good</td>\n",
       "      <td>No Hair</td>\n",
       "      <td>yellow</td>\n",
       "      <td>Unknown</td>\n",
       "      <td>{'Height': '203.0 cm', 'Weight': '441.0 kg'}</td>\n",
       "    </tr>\n",
       "    <tr>\n",
       "      <th>1</th>\n",
       "      <td>Abe Sapien|Dark Horse Comics</td>\n",
       "      <td>Male</td>\n",
       "      <td>Icthyo Sapien</td>\n",
       "      <td>good</td>\n",
       "      <td>No Hair</td>\n",
       "      <td>blue</td>\n",
       "      <td>blue</td>\n",
       "      <td>{'Height': '191.0 cm', 'Weight': '65.0 kg'}</td>\n",
       "    </tr>\n",
       "    <tr>\n",
       "      <th>2</th>\n",
       "      <td>Abin Sur|DC Comics</td>\n",
       "      <td>Male</td>\n",
       "      <td>Ungaran</td>\n",
       "      <td>good</td>\n",
       "      <td>No Hair</td>\n",
       "      <td>blue</td>\n",
       "      <td>red</td>\n",
       "      <td>{'Height': '185.0 cm', 'Weight': '90.0 kg'}</td>\n",
       "    </tr>\n",
       "    <tr>\n",
       "      <th>3</th>\n",
       "      <td>Abomination|Marvel Comics</td>\n",
       "      <td>Male</td>\n",
       "      <td>Human / Radiation</td>\n",
       "      <td>bad</td>\n",
       "      <td>No Hair</td>\n",
       "      <td>green</td>\n",
       "      <td>Unknown</td>\n",
       "      <td>{'Height': '203.0 cm', 'Weight': '441.0 kg'}</td>\n",
       "    </tr>\n",
       "    <tr>\n",
       "      <th>4</th>\n",
       "      <td>Absorbing Man|Marvel Comics</td>\n",
       "      <td>Male</td>\n",
       "      <td>Human</td>\n",
       "      <td>bad</td>\n",
       "      <td>No Hair</td>\n",
       "      <td>blue</td>\n",
       "      <td>Unknown</td>\n",
       "      <td>{'Height': '193.0 cm', 'Weight': '122.0 kg'}</td>\n",
       "    </tr>\n",
       "  </tbody>\n",
       "</table>\n",
       "</div>"
      ],
      "text/plain": [
       "                 Hero|Publisher Gender               Race Alignment  \\\n",
       "0          A-Bomb|Marvel Comics   Male              Human      good   \n",
       "1  Abe Sapien|Dark Horse Comics   Male      Icthyo Sapien      good   \n",
       "2            Abin Sur|DC Comics   Male            Ungaran      good   \n",
       "3     Abomination|Marvel Comics   Male  Human / Radiation       bad   \n",
       "4   Absorbing Man|Marvel Comics   Male              Human       bad   \n",
       "\n",
       "  Hair color Eye color Skin color  \\\n",
       "0    No Hair    yellow    Unknown   \n",
       "1    No Hair      blue       blue   \n",
       "2    No Hair      blue        red   \n",
       "3    No Hair     green    Unknown   \n",
       "4    No Hair      blue    Unknown   \n",
       "\n",
       "                                   Measurements  \n",
       "0  {'Height': '203.0 cm', 'Weight': '441.0 kg'}  \n",
       "1   {'Height': '191.0 cm', 'Weight': '65.0 kg'}  \n",
       "2   {'Height': '185.0 cm', 'Weight': '90.0 kg'}  \n",
       "3  {'Height': '203.0 cm', 'Weight': '441.0 kg'}  \n",
       "4  {'Height': '193.0 cm', 'Weight': '122.0 kg'}  "
      ]
     },
     "execution_count": 13,
     "metadata": {},
     "output_type": "execute_result"
    }
   ],
   "source": [
    "df = pd.read_csv('superhero_info - superhero_info.csv')\n",
    "\n",
    "df.head()"
   ]
  },
  {
   "cell_type": "code",
   "execution_count": 14,
   "id": "12603d12",
   "metadata": {
    "ExecuteTime": {
     "end_time": "2022-08-04T05:02:49.163166Z",
     "start_time": "2022-08-04T05:02:49.072893Z"
    }
   },
   "outputs": [
    {
     "name": "stdout",
     "output_type": "stream",
     "text": [
      "<class 'pandas.core.frame.DataFrame'>\n",
      "RangeIndex: 463 entries, 0 to 462\n",
      "Data columns (total 8 columns):\n",
      " #   Column          Non-Null Count  Dtype \n",
      "---  ------          --------------  ----- \n",
      " 0   Hero|Publisher  463 non-null    object\n",
      " 1   Gender          463 non-null    object\n",
      " 2   Race            463 non-null    object\n",
      " 3   Alignment       463 non-null    object\n",
      " 4   Hair color      463 non-null    object\n",
      " 5   Eye color       463 non-null    object\n",
      " 6   Skin color      463 non-null    object\n",
      " 7   Measurements    463 non-null    object\n",
      "dtypes: object(8)\n",
      "memory usage: 29.1+ KB\n"
     ]
    }
   ],
   "source": [
    "df.info()"
   ]
  },
  {
   "cell_type": "code",
   "execution_count": 15,
   "id": "b602239a",
   "metadata": {
    "ExecuteTime": {
     "end_time": "2022-08-04T05:02:49.240070Z",
     "start_time": "2022-08-04T05:02:49.165151Z"
    }
   },
   "outputs": [
    {
     "data": {
      "text/plain": [
       "0            A-Bomb|Marvel Comics\n",
       "1    Abe Sapien|Dark Horse Comics\n",
       "Name: Hero|Publisher, dtype: object"
      ]
     },
     "execution_count": 15,
     "metadata": {},
     "output_type": "execute_result"
    }
   ],
   "source": [
    "df['Hero|Publisher'].head(2)"
   ]
  },
  {
   "cell_type": "code",
   "execution_count": 16,
   "id": "b05c9312",
   "metadata": {
    "ExecuteTime": {
     "end_time": "2022-08-04T05:02:49.347678Z",
     "start_time": "2022-08-04T05:02:49.243518Z"
    }
   },
   "outputs": [
    {
     "data": {
      "text/html": [
       "<div>\n",
       "<style scoped>\n",
       "    .dataframe tbody tr th:only-of-type {\n",
       "        vertical-align: middle;\n",
       "    }\n",
       "\n",
       "    .dataframe tbody tr th {\n",
       "        vertical-align: top;\n",
       "    }\n",
       "\n",
       "    .dataframe thead th {\n",
       "        text-align: right;\n",
       "    }\n",
       "</style>\n",
       "<table border=\"1\" class=\"dataframe\">\n",
       "  <thead>\n",
       "    <tr style=\"text-align: right;\">\n",
       "      <th></th>\n",
       "      <th>0</th>\n",
       "      <th>1</th>\n",
       "    </tr>\n",
       "  </thead>\n",
       "  <tbody>\n",
       "    <tr>\n",
       "      <th>0</th>\n",
       "      <td>A-Bomb</td>\n",
       "      <td>Marvel Comics</td>\n",
       "    </tr>\n",
       "    <tr>\n",
       "      <th>1</th>\n",
       "      <td>Abe Sapien</td>\n",
       "      <td>Dark Horse Comics</td>\n",
       "    </tr>\n",
       "    <tr>\n",
       "      <th>2</th>\n",
       "      <td>Abin Sur</td>\n",
       "      <td>DC Comics</td>\n",
       "    </tr>\n",
       "    <tr>\n",
       "      <th>3</th>\n",
       "      <td>Abomination</td>\n",
       "      <td>Marvel Comics</td>\n",
       "    </tr>\n",
       "    <tr>\n",
       "      <th>4</th>\n",
       "      <td>Absorbing Man</td>\n",
       "      <td>Marvel Comics</td>\n",
       "    </tr>\n",
       "    <tr>\n",
       "      <th>...</th>\n",
       "      <td>...</td>\n",
       "      <td>...</td>\n",
       "    </tr>\n",
       "    <tr>\n",
       "      <th>458</th>\n",
       "      <td>Yellowjacket</td>\n",
       "      <td>Marvel Comics</td>\n",
       "    </tr>\n",
       "    <tr>\n",
       "      <th>459</th>\n",
       "      <td>Yellowjacket II</td>\n",
       "      <td>Marvel Comics</td>\n",
       "    </tr>\n",
       "    <tr>\n",
       "      <th>460</th>\n",
       "      <td>Yoda</td>\n",
       "      <td>George Lucas</td>\n",
       "    </tr>\n",
       "    <tr>\n",
       "      <th>461</th>\n",
       "      <td>Zatanna</td>\n",
       "      <td>DC Comics</td>\n",
       "    </tr>\n",
       "    <tr>\n",
       "      <th>462</th>\n",
       "      <td>Zoom</td>\n",
       "      <td>DC Comics</td>\n",
       "    </tr>\n",
       "  </tbody>\n",
       "</table>\n",
       "<p>463 rows × 2 columns</p>\n",
       "</div>"
      ],
      "text/plain": [
       "                   0                  1\n",
       "0             A-Bomb      Marvel Comics\n",
       "1         Abe Sapien  Dark Horse Comics\n",
       "2           Abin Sur          DC Comics\n",
       "3        Abomination      Marvel Comics\n",
       "4      Absorbing Man      Marvel Comics\n",
       "..               ...                ...\n",
       "458     Yellowjacket      Marvel Comics\n",
       "459  Yellowjacket II      Marvel Comics\n",
       "460             Yoda       George Lucas\n",
       "461          Zatanna          DC Comics\n",
       "462             Zoom          DC Comics\n",
       "\n",
       "[463 rows x 2 columns]"
      ]
     },
     "execution_count": 16,
     "metadata": {},
     "output_type": "execute_result"
    }
   ],
   "source": [
    "df['Hero|Publisher'].str.split('|', expand=True)"
   ]
  },
  {
   "cell_type": "code",
   "execution_count": 17,
   "id": "51f39c5e",
   "metadata": {
    "ExecuteTime": {
     "end_time": "2022-08-04T05:02:49.455341Z",
     "start_time": "2022-08-04T05:02:49.349689Z"
    }
   },
   "outputs": [
    {
     "data": {
      "text/html": [
       "<div>\n",
       "<style scoped>\n",
       "    .dataframe tbody tr th:only-of-type {\n",
       "        vertical-align: middle;\n",
       "    }\n",
       "\n",
       "    .dataframe tbody tr th {\n",
       "        vertical-align: top;\n",
       "    }\n",
       "\n",
       "    .dataframe thead th {\n",
       "        text-align: right;\n",
       "    }\n",
       "</style>\n",
       "<table border=\"1\" class=\"dataframe\">\n",
       "  <thead>\n",
       "    <tr style=\"text-align: right;\">\n",
       "      <th></th>\n",
       "      <th>Hero|Publisher</th>\n",
       "      <th>Gender</th>\n",
       "      <th>Race</th>\n",
       "      <th>Alignment</th>\n",
       "      <th>Hair color</th>\n",
       "      <th>Eye color</th>\n",
       "      <th>Skin color</th>\n",
       "      <th>Measurements</th>\n",
       "      <th>Hero</th>\n",
       "      <th>Publisher</th>\n",
       "    </tr>\n",
       "  </thead>\n",
       "  <tbody>\n",
       "    <tr>\n",
       "      <th>0</th>\n",
       "      <td>A-Bomb|Marvel Comics</td>\n",
       "      <td>Male</td>\n",
       "      <td>Human</td>\n",
       "      <td>good</td>\n",
       "      <td>No Hair</td>\n",
       "      <td>yellow</td>\n",
       "      <td>Unknown</td>\n",
       "      <td>{'Height': '203.0 cm', 'Weight': '441.0 kg'}</td>\n",
       "      <td>A-Bomb</td>\n",
       "      <td>Marvel Comics</td>\n",
       "    </tr>\n",
       "    <tr>\n",
       "      <th>1</th>\n",
       "      <td>Abe Sapien|Dark Horse Comics</td>\n",
       "      <td>Male</td>\n",
       "      <td>Icthyo Sapien</td>\n",
       "      <td>good</td>\n",
       "      <td>No Hair</td>\n",
       "      <td>blue</td>\n",
       "      <td>blue</td>\n",
       "      <td>{'Height': '191.0 cm', 'Weight': '65.0 kg'}</td>\n",
       "      <td>Abe Sapien</td>\n",
       "      <td>Dark Horse Comics</td>\n",
       "    </tr>\n",
       "  </tbody>\n",
       "</table>\n",
       "</div>"
      ],
      "text/plain": [
       "                 Hero|Publisher Gender           Race Alignment Hair color  \\\n",
       "0          A-Bomb|Marvel Comics   Male          Human      good    No Hair   \n",
       "1  Abe Sapien|Dark Horse Comics   Male  Icthyo Sapien      good    No Hair   \n",
       "\n",
       "  Eye color Skin color                                  Measurements  \\\n",
       "0    yellow    Unknown  {'Height': '203.0 cm', 'Weight': '441.0 kg'}   \n",
       "1      blue       blue   {'Height': '191.0 cm', 'Weight': '65.0 kg'}   \n",
       "\n",
       "         Hero          Publisher  \n",
       "0      A-Bomb      Marvel Comics  \n",
       "1  Abe Sapien  Dark Horse Comics  "
      ]
     },
     "execution_count": 17,
     "metadata": {},
     "output_type": "execute_result"
    }
   ],
   "source": [
    "df[['Hero', 'Publisher']] = df['Hero|Publisher'].str.split('|', expand=True)\n",
    "df.head(2)"
   ]
  },
  {
   "cell_type": "code",
   "execution_count": 18,
   "id": "939371ce",
   "metadata": {
    "ExecuteTime": {
     "end_time": "2022-08-04T05:02:49.532214Z",
     "start_time": "2022-08-04T05:02:49.457295Z"
    }
   },
   "outputs": [
    {
     "data": {
      "text/html": [
       "<div>\n",
       "<style scoped>\n",
       "    .dataframe tbody tr th:only-of-type {\n",
       "        vertical-align: middle;\n",
       "    }\n",
       "\n",
       "    .dataframe tbody tr th {\n",
       "        vertical-align: top;\n",
       "    }\n",
       "\n",
       "    .dataframe thead th {\n",
       "        text-align: right;\n",
       "    }\n",
       "</style>\n",
       "<table border=\"1\" class=\"dataframe\">\n",
       "  <thead>\n",
       "    <tr style=\"text-align: right;\">\n",
       "      <th></th>\n",
       "      <th>Gender</th>\n",
       "      <th>Race</th>\n",
       "      <th>Alignment</th>\n",
       "      <th>Hair color</th>\n",
       "      <th>Eye color</th>\n",
       "      <th>Skin color</th>\n",
       "      <th>Measurements</th>\n",
       "      <th>Hero</th>\n",
       "      <th>Publisher</th>\n",
       "    </tr>\n",
       "  </thead>\n",
       "  <tbody>\n",
       "    <tr>\n",
       "      <th>0</th>\n",
       "      <td>Male</td>\n",
       "      <td>Human</td>\n",
       "      <td>good</td>\n",
       "      <td>No Hair</td>\n",
       "      <td>yellow</td>\n",
       "      <td>Unknown</td>\n",
       "      <td>{'Height': '203.0 cm', 'Weight': '441.0 kg'}</td>\n",
       "      <td>A-Bomb</td>\n",
       "      <td>Marvel Comics</td>\n",
       "    </tr>\n",
       "    <tr>\n",
       "      <th>1</th>\n",
       "      <td>Male</td>\n",
       "      <td>Icthyo Sapien</td>\n",
       "      <td>good</td>\n",
       "      <td>No Hair</td>\n",
       "      <td>blue</td>\n",
       "      <td>blue</td>\n",
       "      <td>{'Height': '191.0 cm', 'Weight': '65.0 kg'}</td>\n",
       "      <td>Abe Sapien</td>\n",
       "      <td>Dark Horse Comics</td>\n",
       "    </tr>\n",
       "  </tbody>\n",
       "</table>\n",
       "</div>"
      ],
      "text/plain": [
       "  Gender           Race Alignment Hair color Eye color Skin color  \\\n",
       "0   Male          Human      good    No Hair    yellow    Unknown   \n",
       "1   Male  Icthyo Sapien      good    No Hair      blue       blue   \n",
       "\n",
       "                                   Measurements        Hero          Publisher  \n",
       "0  {'Height': '203.0 cm', 'Weight': '441.0 kg'}      A-Bomb      Marvel Comics  \n",
       "1   {'Height': '191.0 cm', 'Weight': '65.0 kg'}  Abe Sapien  Dark Horse Comics  "
      ]
     },
     "execution_count": 18,
     "metadata": {},
     "output_type": "execute_result"
    }
   ],
   "source": [
    "df = df.drop(columns=['Hero|Publisher'])\n",
    "df.head(2)"
   ]
  },
  {
   "cell_type": "code",
   "execution_count": 19,
   "id": "f14755b5",
   "metadata": {
    "ExecuteTime": {
     "end_time": "2022-08-04T05:02:49.639822Z",
     "start_time": "2022-08-04T05:02:49.534174Z"
    }
   },
   "outputs": [
    {
     "name": "stdout",
     "output_type": "stream",
     "text": [
      "<class 'str'>\n"
     ]
    },
    {
     "data": {
      "text/plain": [
       "\"{'Height': '203.0 cm', 'Weight': '441.0 kg'}\""
      ]
     },
     "execution_count": 19,
     "metadata": {},
     "output_type": "execute_result"
    }
   ],
   "source": [
    "meas = df.loc[0,\"Measurements\"]\n",
    "\n",
    "print(type(meas))\n",
    "\n",
    "meas"
   ]
  },
  {
   "cell_type": "code",
   "execution_count": 20,
   "id": "e79c127d",
   "metadata": {
    "ExecuteTime": {
     "end_time": "2022-08-04T05:02:49.762830Z",
     "start_time": "2022-08-04T05:02:49.642303Z"
    }
   },
   "outputs": [
    {
     "data": {
      "text/plain": [
       "'{\"Height\": \"203.0 cm\", \"Weight\": \"441.0 kg\"}'"
      ]
     },
     "execution_count": 20,
     "metadata": {},
     "output_type": "execute_result"
    }
   ],
   "source": [
    "meas = meas.replace(\"'\",'\"')\n",
    "meas"
   ]
  },
  {
   "cell_type": "code",
   "execution_count": 21,
   "id": "3022a259",
   "metadata": {
    "ExecuteTime": {
     "end_time": "2022-08-04T05:02:49.901022Z",
     "start_time": "2022-08-04T05:02:49.765309Z"
    }
   },
   "outputs": [
    {
     "name": "stdout",
     "output_type": "stream",
     "text": [
      "<class 'dict'>\n"
     ]
    },
    {
     "data": {
      "text/plain": [
       "{'Height': '203.0 cm', 'Weight': '441.0 kg'}"
      ]
     },
     "execution_count": 21,
     "metadata": {},
     "output_type": "execute_result"
    }
   ],
   "source": [
    "fixed_meas = json.loads(meas)\n",
    "print(type(fixed_meas))\n",
    "fixed_meas"
   ]
  },
  {
   "cell_type": "code",
   "execution_count": 22,
   "id": "46bd4509",
   "metadata": {
    "ExecuteTime": {
     "end_time": "2022-08-04T05:02:50.023922Z",
     "start_time": "2022-08-04T05:02:49.904991Z"
    }
   },
   "outputs": [
    {
     "data": {
      "text/plain": [
       "0    {'Height': '203.0 cm', 'Weight': '441.0 kg'}\n",
       "1     {'Height': '191.0 cm', 'Weight': '65.0 kg'}\n",
       "2     {'Height': '185.0 cm', 'Weight': '90.0 kg'}\n",
       "3    {'Height': '203.0 cm', 'Weight': '441.0 kg'}\n",
       "4    {'Height': '193.0 cm', 'Weight': '122.0 kg'}\n",
       "Name: Measurements, dtype: object"
      ]
     },
     "execution_count": 22,
     "metadata": {},
     "output_type": "execute_result"
    }
   ],
   "source": [
    "df['Measurements'] = df['Measurements'].str.replace(\"'\",'\"')\n",
    "\n",
    "df['Measurements'] = df['Measurements'].apply(json.loads)\n",
    "df['Measurements'].head()"
   ]
  },
  {
   "cell_type": "code",
   "execution_count": 23,
   "id": "9c3013eb",
   "metadata": {
    "ExecuteTime": {
     "end_time": "2022-08-04T05:02:50.116108Z",
     "start_time": "2022-08-04T05:02:50.026375Z"
    }
   },
   "outputs": [
    {
     "name": "stdout",
     "output_type": "stream",
     "text": [
      "<class 'dict'>\n"
     ]
    },
    {
     "data": {
      "text/plain": [
       "{'Height': '203.0 cm', 'Weight': '441.0 kg'}"
      ]
     },
     "execution_count": 23,
     "metadata": {},
     "output_type": "execute_result"
    }
   ],
   "source": [
    "test_meas = df.loc[0, 'Measurements']\n",
    "print(type(test_meas))\n",
    "test_meas"
   ]
  },
  {
   "cell_type": "code",
   "execution_count": 24,
   "id": "acc4da91",
   "metadata": {
    "ExecuteTime": {
     "end_time": "2022-08-04T05:02:50.316012Z",
     "start_time": "2022-08-04T05:02:50.118587Z"
    }
   },
   "outputs": [
    {
     "data": {
      "text/html": [
       "<div>\n",
       "<style scoped>\n",
       "    .dataframe tbody tr th:only-of-type {\n",
       "        vertical-align: middle;\n",
       "    }\n",
       "\n",
       "    .dataframe tbody tr th {\n",
       "        vertical-align: top;\n",
       "    }\n",
       "\n",
       "    .dataframe thead th {\n",
       "        text-align: right;\n",
       "    }\n",
       "</style>\n",
       "<table border=\"1\" class=\"dataframe\">\n",
       "  <thead>\n",
       "    <tr style=\"text-align: right;\">\n",
       "      <th></th>\n",
       "      <th>Height</th>\n",
       "      <th>Weight</th>\n",
       "    </tr>\n",
       "  </thead>\n",
       "  <tbody>\n",
       "    <tr>\n",
       "      <th>0</th>\n",
       "      <td>203.0 cm</td>\n",
       "      <td>441.0 kg</td>\n",
       "    </tr>\n",
       "    <tr>\n",
       "      <th>1</th>\n",
       "      <td>191.0 cm</td>\n",
       "      <td>65.0 kg</td>\n",
       "    </tr>\n",
       "    <tr>\n",
       "      <th>2</th>\n",
       "      <td>185.0 cm</td>\n",
       "      <td>90.0 kg</td>\n",
       "    </tr>\n",
       "    <tr>\n",
       "      <th>3</th>\n",
       "      <td>203.0 cm</td>\n",
       "      <td>441.0 kg</td>\n",
       "    </tr>\n",
       "    <tr>\n",
       "      <th>4</th>\n",
       "      <td>193.0 cm</td>\n",
       "      <td>122.0 kg</td>\n",
       "    </tr>\n",
       "    <tr>\n",
       "      <th>...</th>\n",
       "      <td>...</td>\n",
       "      <td>...</td>\n",
       "    </tr>\n",
       "    <tr>\n",
       "      <th>458</th>\n",
       "      <td>183.0 cm</td>\n",
       "      <td>83.0 kg</td>\n",
       "    </tr>\n",
       "    <tr>\n",
       "      <th>459</th>\n",
       "      <td>165.0 cm</td>\n",
       "      <td>52.0 kg</td>\n",
       "    </tr>\n",
       "    <tr>\n",
       "      <th>460</th>\n",
       "      <td>66.0 cm</td>\n",
       "      <td>17.0 kg</td>\n",
       "    </tr>\n",
       "    <tr>\n",
       "      <th>461</th>\n",
       "      <td>170.0 cm</td>\n",
       "      <td>57.0 kg</td>\n",
       "    </tr>\n",
       "    <tr>\n",
       "      <th>462</th>\n",
       "      <td>185.0 cm</td>\n",
       "      <td>81.0 kg</td>\n",
       "    </tr>\n",
       "  </tbody>\n",
       "</table>\n",
       "<p>463 rows × 2 columns</p>\n",
       "</div>"
      ],
      "text/plain": [
       "       Height    Weight\n",
       "0    203.0 cm  441.0 kg\n",
       "1    191.0 cm   65.0 kg\n",
       "2    185.0 cm   90.0 kg\n",
       "3    203.0 cm  441.0 kg\n",
       "4    193.0 cm  122.0 kg\n",
       "..        ...       ...\n",
       "458  183.0 cm   83.0 kg\n",
       "459  165.0 cm   52.0 kg\n",
       "460   66.0 cm   17.0 kg\n",
       "461  170.0 cm   57.0 kg\n",
       "462  185.0 cm   81.0 kg\n",
       "\n",
       "[463 rows x 2 columns]"
      ]
     },
     "execution_count": 24,
     "metadata": {},
     "output_type": "execute_result"
    }
   ],
   "source": [
    "height_weight = df['Measurements'].apply(pd.Series)\n",
    "height_weight"
   ]
  },
  {
   "cell_type": "code",
   "execution_count": 25,
   "id": "76c3f458",
   "metadata": {
    "ExecuteTime": {
     "end_time": "2022-08-04T05:02:50.346748Z",
     "start_time": "2022-08-04T05:02:50.318477Z"
    }
   },
   "outputs": [
    {
     "data": {
      "text/html": [
       "<div>\n",
       "<style scoped>\n",
       "    .dataframe tbody tr th:only-of-type {\n",
       "        vertical-align: middle;\n",
       "    }\n",
       "\n",
       "    .dataframe tbody tr th {\n",
       "        vertical-align: top;\n",
       "    }\n",
       "\n",
       "    .dataframe thead th {\n",
       "        text-align: right;\n",
       "    }\n",
       "</style>\n",
       "<table border=\"1\" class=\"dataframe\">\n",
       "  <thead>\n",
       "    <tr style=\"text-align: right;\">\n",
       "      <th></th>\n",
       "      <th>Gender</th>\n",
       "      <th>Race</th>\n",
       "      <th>Alignment</th>\n",
       "      <th>Hair color</th>\n",
       "      <th>Eye color</th>\n",
       "      <th>Skin color</th>\n",
       "      <th>Measurements</th>\n",
       "      <th>Hero</th>\n",
       "      <th>Publisher</th>\n",
       "      <th>Height</th>\n",
       "      <th>Weight</th>\n",
       "    </tr>\n",
       "  </thead>\n",
       "  <tbody>\n",
       "    <tr>\n",
       "      <th>0</th>\n",
       "      <td>Male</td>\n",
       "      <td>Human</td>\n",
       "      <td>good</td>\n",
       "      <td>No Hair</td>\n",
       "      <td>yellow</td>\n",
       "      <td>Unknown</td>\n",
       "      <td>{'Height': '203.0 cm', 'Weight': '441.0 kg'}</td>\n",
       "      <td>A-Bomb</td>\n",
       "      <td>Marvel Comics</td>\n",
       "      <td>203.0 cm</td>\n",
       "      <td>441.0 kg</td>\n",
       "    </tr>\n",
       "    <tr>\n",
       "      <th>1</th>\n",
       "      <td>Male</td>\n",
       "      <td>Icthyo Sapien</td>\n",
       "      <td>good</td>\n",
       "      <td>No Hair</td>\n",
       "      <td>blue</td>\n",
       "      <td>blue</td>\n",
       "      <td>{'Height': '191.0 cm', 'Weight': '65.0 kg'}</td>\n",
       "      <td>Abe Sapien</td>\n",
       "      <td>Dark Horse Comics</td>\n",
       "      <td>191.0 cm</td>\n",
       "      <td>65.0 kg</td>\n",
       "    </tr>\n",
       "  </tbody>\n",
       "</table>\n",
       "</div>"
      ],
      "text/plain": [
       "  Gender           Race Alignment Hair color Eye color Skin color  \\\n",
       "0   Male          Human      good    No Hair    yellow    Unknown   \n",
       "1   Male  Icthyo Sapien      good    No Hair      blue       blue   \n",
       "\n",
       "                                   Measurements        Hero  \\\n",
       "0  {'Height': '203.0 cm', 'Weight': '441.0 kg'}      A-Bomb   \n",
       "1   {'Height': '191.0 cm', 'Weight': '65.0 kg'}  Abe Sapien   \n",
       "\n",
       "           Publisher    Height    Weight  \n",
       "0      Marvel Comics  203.0 cm  441.0 kg  \n",
       "1  Dark Horse Comics  191.0 cm   65.0 kg  "
      ]
     },
     "execution_count": 25,
     "metadata": {},
     "output_type": "execute_result"
    }
   ],
   "source": [
    "df = pd.concat((df, height_weight), axis=1)\n",
    "df.head(2)"
   ]
  },
  {
   "cell_type": "code",
   "execution_count": 26,
   "id": "5afbfb26",
   "metadata": {
    "ExecuteTime": {
     "end_time": "2022-08-04T05:02:50.423627Z",
     "start_time": "2022-08-04T05:02:50.348236Z"
    }
   },
   "outputs": [
    {
     "data": {
      "text/html": [
       "<div>\n",
       "<style scoped>\n",
       "    .dataframe tbody tr th:only-of-type {\n",
       "        vertical-align: middle;\n",
       "    }\n",
       "\n",
       "    .dataframe tbody tr th {\n",
       "        vertical-align: top;\n",
       "    }\n",
       "\n",
       "    .dataframe thead th {\n",
       "        text-align: right;\n",
       "    }\n",
       "</style>\n",
       "<table border=\"1\" class=\"dataframe\">\n",
       "  <thead>\n",
       "    <tr style=\"text-align: right;\">\n",
       "      <th></th>\n",
       "      <th>Gender</th>\n",
       "      <th>Race</th>\n",
       "      <th>Alignment</th>\n",
       "      <th>Hair color</th>\n",
       "      <th>Eye color</th>\n",
       "      <th>Skin color</th>\n",
       "      <th>Hero</th>\n",
       "      <th>Publisher</th>\n",
       "      <th>Height</th>\n",
       "      <th>Weight</th>\n",
       "    </tr>\n",
       "  </thead>\n",
       "  <tbody>\n",
       "    <tr>\n",
       "      <th>0</th>\n",
       "      <td>Male</td>\n",
       "      <td>Human</td>\n",
       "      <td>good</td>\n",
       "      <td>No Hair</td>\n",
       "      <td>yellow</td>\n",
       "      <td>Unknown</td>\n",
       "      <td>A-Bomb</td>\n",
       "      <td>Marvel Comics</td>\n",
       "      <td>203.0 cm</td>\n",
       "      <td>441.0 kg</td>\n",
       "    </tr>\n",
       "    <tr>\n",
       "      <th>1</th>\n",
       "      <td>Male</td>\n",
       "      <td>Icthyo Sapien</td>\n",
       "      <td>good</td>\n",
       "      <td>No Hair</td>\n",
       "      <td>blue</td>\n",
       "      <td>blue</td>\n",
       "      <td>Abe Sapien</td>\n",
       "      <td>Dark Horse Comics</td>\n",
       "      <td>191.0 cm</td>\n",
       "      <td>65.0 kg</td>\n",
       "    </tr>\n",
       "  </tbody>\n",
       "</table>\n",
       "</div>"
      ],
      "text/plain": [
       "  Gender           Race Alignment Hair color Eye color Skin color        Hero  \\\n",
       "0   Male          Human      good    No Hair    yellow    Unknown      A-Bomb   \n",
       "1   Male  Icthyo Sapien      good    No Hair      blue       blue  Abe Sapien   \n",
       "\n",
       "           Publisher    Height    Weight  \n",
       "0      Marvel Comics  203.0 cm  441.0 kg  \n",
       "1  Dark Horse Comics  191.0 cm   65.0 kg  "
      ]
     },
     "execution_count": 26,
     "metadata": {},
     "output_type": "execute_result"
    }
   ],
   "source": [
    "df = df.drop(columns=['Measurements'])\n",
    "df.head(2)"
   ]
  },
  {
   "cell_type": "code",
   "execution_count": 27,
   "id": "16394761",
   "metadata": {
    "ExecuteTime": {
     "end_time": "2022-08-04T05:02:50.592796Z",
     "start_time": "2022-08-04T05:02:50.425612Z"
    }
   },
   "outputs": [
    {
     "data": {
      "text/html": [
       "<div>\n",
       "<style scoped>\n",
       "    .dataframe tbody tr th:only-of-type {\n",
       "        vertical-align: middle;\n",
       "    }\n",
       "\n",
       "    .dataframe tbody tr th {\n",
       "        vertical-align: top;\n",
       "    }\n",
       "\n",
       "    .dataframe thead th {\n",
       "        text-align: right;\n",
       "    }\n",
       "</style>\n",
       "<table border=\"1\" class=\"dataframe\">\n",
       "  <thead>\n",
       "    <tr style=\"text-align: right;\">\n",
       "      <th></th>\n",
       "      <th>hero_names</th>\n",
       "      <th>Powers</th>\n",
       "    </tr>\n",
       "  </thead>\n",
       "  <tbody>\n",
       "    <tr>\n",
       "      <th>0</th>\n",
       "      <td>3-D Man</td>\n",
       "      <td>Agility,Super Strength,Stamina,Super Speed</td>\n",
       "    </tr>\n",
       "    <tr>\n",
       "      <th>1</th>\n",
       "      <td>A-Bomb</td>\n",
       "      <td>Accelerated Healing,Durability,Longevity,Super...</td>\n",
       "    </tr>\n",
       "  </tbody>\n",
       "</table>\n",
       "</div>"
      ],
      "text/plain": [
       "  hero_names                                             Powers\n",
       "0    3-D Man         Agility,Super Strength,Stamina,Super Speed\n",
       "1     A-Bomb  Accelerated Healing,Durability,Longevity,Super..."
      ]
     },
     "execution_count": 27,
     "metadata": {},
     "output_type": "execute_result"
    }
   ],
   "source": [
    "df2 = pd.read_csv('superhero_powers - superhero_powers.csv')\n",
    "df2.head(2)"
   ]
  },
  {
   "cell_type": "code",
   "execution_count": 28,
   "id": "cf36d258",
   "metadata": {
    "ExecuteTime": {
     "end_time": "2022-08-04T05:02:50.700395Z",
     "start_time": "2022-08-04T05:02:50.594748Z"
    }
   },
   "outputs": [
    {
     "data": {
      "text/html": [
       "<div>\n",
       "<style scoped>\n",
       "    .dataframe tbody tr th:only-of-type {\n",
       "        vertical-align: middle;\n",
       "    }\n",
       "\n",
       "    .dataframe tbody tr th {\n",
       "        vertical-align: top;\n",
       "    }\n",
       "\n",
       "    .dataframe thead th {\n",
       "        text-align: right;\n",
       "    }\n",
       "</style>\n",
       "<table border=\"1\" class=\"dataframe\">\n",
       "  <thead>\n",
       "    <tr style=\"text-align: right;\">\n",
       "      <th></th>\n",
       "      <th>hero_names</th>\n",
       "      <th>Powers</th>\n",
       "    </tr>\n",
       "  </thead>\n",
       "  <tbody>\n",
       "    <tr>\n",
       "      <th>0</th>\n",
       "      <td>3-D Man</td>\n",
       "      <td>Agility,Super Strength,Stamina,Super Speed</td>\n",
       "    </tr>\n",
       "    <tr>\n",
       "      <th>1</th>\n",
       "      <td>A-Bomb</td>\n",
       "      <td>Accelerated Healing,Durability,Longevity,Super...</td>\n",
       "    </tr>\n",
       "    <tr>\n",
       "      <th>2</th>\n",
       "      <td>Abe Sapien</td>\n",
       "      <td>Agility,Accelerated Healing,Cold Resistance,Du...</td>\n",
       "    </tr>\n",
       "    <tr>\n",
       "      <th>3</th>\n",
       "      <td>Abin Sur</td>\n",
       "      <td>Lantern Power Ring</td>\n",
       "    </tr>\n",
       "    <tr>\n",
       "      <th>4</th>\n",
       "      <td>Abomination</td>\n",
       "      <td>Accelerated Healing,Intelligence,Super Strengt...</td>\n",
       "    </tr>\n",
       "    <tr>\n",
       "      <th>...</th>\n",
       "      <td>...</td>\n",
       "      <td>...</td>\n",
       "    </tr>\n",
       "    <tr>\n",
       "      <th>662</th>\n",
       "      <td>Yellowjacket II</td>\n",
       "      <td>Flight,Energy Blasts,Size Changing</td>\n",
       "    </tr>\n",
       "    <tr>\n",
       "      <th>663</th>\n",
       "      <td>Ymir</td>\n",
       "      <td>Cold Resistance,Durability,Longevity,Super Str...</td>\n",
       "    </tr>\n",
       "    <tr>\n",
       "      <th>664</th>\n",
       "      <td>Yoda</td>\n",
       "      <td>Agility,Stealth,Danger Sense,Marksmanship,Weap...</td>\n",
       "    </tr>\n",
       "    <tr>\n",
       "      <th>665</th>\n",
       "      <td>Zatanna</td>\n",
       "      <td>Cryokinesis,Telepathy,Magic,Fire Control,Proba...</td>\n",
       "    </tr>\n",
       "    <tr>\n",
       "      <th>666</th>\n",
       "      <td>Zoom</td>\n",
       "      <td>Super Speed,Intangibility,Time Travel,Time Man...</td>\n",
       "    </tr>\n",
       "  </tbody>\n",
       "</table>\n",
       "<p>667 rows × 2 columns</p>\n",
       "</div>"
      ],
      "text/plain": [
       "          hero_names                                             Powers\n",
       "0            3-D Man         Agility,Super Strength,Stamina,Super Speed\n",
       "1             A-Bomb  Accelerated Healing,Durability,Longevity,Super...\n",
       "2         Abe Sapien  Agility,Accelerated Healing,Cold Resistance,Du...\n",
       "3           Abin Sur                                 Lantern Power Ring\n",
       "4        Abomination  Accelerated Healing,Intelligence,Super Strengt...\n",
       "..               ...                                                ...\n",
       "662  Yellowjacket II                 Flight,Energy Blasts,Size Changing\n",
       "663             Ymir  Cold Resistance,Durability,Longevity,Super Str...\n",
       "664             Yoda  Agility,Stealth,Danger Sense,Marksmanship,Weap...\n",
       "665          Zatanna  Cryokinesis,Telepathy,Magic,Fire Control,Proba...\n",
       "666             Zoom  Super Speed,Intangibility,Time Travel,Time Man...\n",
       "\n",
       "[667 rows x 2 columns]"
      ]
     },
     "execution_count": 28,
     "metadata": {},
     "output_type": "execute_result"
    }
   ],
   "source": [
    "df2"
   ]
  },
  {
   "cell_type": "code",
   "execution_count": 29,
   "id": "d136db17",
   "metadata": {
    "ExecuteTime": {
     "end_time": "2022-08-04T05:02:50.838780Z",
     "start_time": "2022-08-04T05:02:50.702380Z"
    }
   },
   "outputs": [
    {
     "data": {
      "text/plain": [
       "<bound method IndexOpsMixin.value_counts of 0             Agility,Super Strength,Stamina,Super Speed\n",
       "1      Accelerated Healing,Durability,Longevity,Super...\n",
       "2      Agility,Accelerated Healing,Cold Resistance,Du...\n",
       "3                                     Lantern Power Ring\n",
       "4      Accelerated Healing,Intelligence,Super Strengt...\n",
       "                             ...                        \n",
       "662                   Flight,Energy Blasts,Size Changing\n",
       "663    Cold Resistance,Durability,Longevity,Super Str...\n",
       "664    Agility,Stealth,Danger Sense,Marksmanship,Weap...\n",
       "665    Cryokinesis,Telepathy,Magic,Fire Control,Proba...\n",
       "666    Super Speed,Intangibility,Time Travel,Time Man...\n",
       "Name: Powers, Length: 667, dtype: object>"
      ]
     },
     "execution_count": 29,
     "metadata": {},
     "output_type": "execute_result"
    }
   ],
   "source": [
    "df2['Powers'].value_counts"
   ]
  },
  {
   "cell_type": "code",
   "execution_count": 33,
   "id": "07d97a29",
   "metadata": {
    "ExecuteTime": {
     "end_time": "2022-08-04T05:11:40.985859Z",
     "start_time": "2022-08-04T05:11:40.971971Z"
    }
   },
   "outputs": [
    {
     "data": {
      "text/plain": [
       "'Agility,Accelerated Healing,Cold Resistance,Durability,Underwater breathing,Marksmanship,Weapons Master,Longevity,Intelligence,Super Strength,Telepathy,Stamina,Immortality,Reflexes,Enhanced Sight,Sub-Mariner'"
      ]
     },
     "execution_count": 33,
     "metadata": {},
     "output_type": "execute_result"
    }
   ],
   "source": [
    "df2.loc[2,'Powers']"
   ]
  },
  {
   "cell_type": "code",
   "execution_count": 34,
   "id": "b77468dd",
   "metadata": {
    "ExecuteTime": {
     "end_time": "2022-08-04T05:11:53.915946Z",
     "start_time": "2022-08-04T05:11:53.899047Z"
    },
    "scrolled": true
   },
   "outputs": [
    {
     "data": {
      "text/plain": [
       "0        [Agility, Super Strength, Stamina, Super Speed]\n",
       "1      [Accelerated Healing, Durability, Longevity, S...\n",
       "2      [Agility, Accelerated Healing, Cold Resistance...\n",
       "3                                   [Lantern Power Ring]\n",
       "4      [Accelerated Healing, Intelligence, Super Stre...\n",
       "                             ...                        \n",
       "662               [Flight, Energy Blasts, Size Changing]\n",
       "663    [Cold Resistance, Durability, Longevity, Super...\n",
       "664    [Agility, Stealth, Danger Sense, Marksmanship,...\n",
       "665    [Cryokinesis, Telepathy, Magic, Fire Control, ...\n",
       "666    [Super Speed, Intangibility, Time Travel, Time...\n",
       "Name: Powers, Length: 667, dtype: object"
      ]
     },
     "execution_count": 34,
     "metadata": {},
     "output_type": "execute_result"
    }
   ],
   "source": [
    "df2['Powers'].str.split(',', expand=False)"
   ]
  },
  {
   "cell_type": "code",
   "execution_count": 36,
   "id": "0a3b77c4",
   "metadata": {
    "ExecuteTime": {
     "end_time": "2022-08-04T05:30:15.508973Z",
     "start_time": "2022-08-04T05:30:15.494094Z"
    }
   },
   "outputs": [
    {
     "data": {
      "text/plain": [
       "['Accelerated Healing',\n",
       " 'Accelerated Healing,Cold Resistance,Durability,Flight,Intelligence,Super Strength,Energy Blasts,Stamina,Super Speed,Heat Resistance',\n",
       " 'Accelerated Healing,Cold Resistance,Durability,Flight,Super Strength,Immortality,Reflexes,Vision - Telescopic']"
      ]
     },
     "execution_count": 36,
     "metadata": {},
     "output_type": "execute_result"
    }
   ],
   "source": [
    "unique_ids = sorted(df2['Powers'].unique())\n",
    "unique_ids[:3]\n",
    "\n"
   ]
  },
  {
   "cell_type": "code",
   "execution_count": 37,
   "id": "8ad9038d",
   "metadata": {
    "ExecuteTime": {
     "end_time": "2022-08-04T05:30:45.145774Z",
     "start_time": "2022-08-04T05:30:45.132889Z"
    }
   },
   "outputs": [
    {
     "data": {
      "text/plain": [
       "range(0, 608)"
      ]
     },
     "execution_count": 37,
     "metadata": {},
     "output_type": "execute_result"
    }
   ],
   "source": [
    "int_ids = range(len(unique_ids))\n",
    "int_ids\n",
    "\n"
   ]
  },
  {
   "cell_type": "code",
   "execution_count": 38,
   "id": "c0fecd81",
   "metadata": {
    "ExecuteTime": {
     "end_time": "2022-08-04T05:31:51.933838Z",
     "start_time": "2022-08-04T05:31:51.928382Z"
    }
   },
   "outputs": [
    {
     "data": {
      "text/plain": [
       "[0, 1, 2, 3, 4, 5, 6, 7, 8, 9]"
      ]
     },
     "execution_count": 38,
     "metadata": {},
     "output_type": "execute_result"
    }
   ],
   "source": [
    "example_range = list(int_ids)\n",
    "example_range[:10]\n",
    "\n"
   ]
  },
  {
   "cell_type": "code",
   "execution_count": 39,
   "id": "ee734050",
   "metadata": {
    "ExecuteTime": {
     "end_time": "2022-08-04T05:32:16.756283Z",
     "start_time": "2022-08-04T05:32:16.656766Z"
    }
   },
   "outputs": [
    {
     "data": {
      "text/plain": [
       "{'Accelerated Healing': 0,\n",
       " 'Accelerated Healing,Cold Resistance,Durability,Flight,Intelligence,Super Strength,Energy Blasts,Stamina,Super Speed,Heat Resistance': 1,\n",
       " 'Accelerated Healing,Cold Resistance,Durability,Flight,Super Strength,Immortality,Reflexes,Vision - Telescopic': 2,\n",
       " 'Accelerated Healing,Cold Resistance,Durability,Stealth,Marksmanship,Weapons Master,Longevity,Intelligence,Super Strength,Stamina,Jump,Camouflage,Reflexes,Power Suit,Natural Weapons,Cloaking,Toxin and Disease Resistance,Vision - Night,Vision - Infrared,Radar Sense,Vision - Thermal': 3,\n",
       " 'Accelerated Healing,Cold Resistance,Durability,Stealth,Weapons Master,Longevity,Super Strength,Stamina,Enhanced Memory,Invulnerability,Technopath/Cyberpath,Enhanced Hearing,Heat Resistance,Vision - Telescopic,Vision - Night,Vision - Infrared,Vision - Thermal': 4,\n",
       " 'Accelerated Healing,Dimensional Awareness,Durability,Energy Absorption,Flight,Marksmanship,Longevity,Intelligence,Super Strength,Telepathy,Energy Blasts,Size Changing,Stamina,Super Speed,Teleportation,Telekinesis,Energy Beams,Dimensional Travel,Immortality,Invulnerability,Force Fields,Psionic Powers,Molecular Manipulation,Regeneration,Levitation,Energy Manipulation,Power Cosmic,Toxin and Disease Resistance,Portal Creation,Grim Reaping,Resurrection,Vitakinesis': 5,\n",
       " 'Accelerated Healing,Dimensional Awareness,Durability,Energy Absorption,Flight,Power Augmentation,Intelligence,Super Strength,Telepathy,Energy Blasts,Size Changing,Darkforce Manipulation,Teleportation,Energy Beams,Immortality,Invulnerability,Energy Constructs,Molecular Manipulation,Power Suit,Time Travel,Time Manipulation,Matter Absorption,Reality Warping': 6,\n",
       " 'Accelerated Healing,Dimensional Awareness,Durability,Longevity,Super Strength,Energy Blasts,Stamina,Super Speed,Magic,Dimensional Travel,Shapeshifting,Immortality,Astral Projection,Self-Sustenance,Molecular Manipulation,Illusions,Toxin and Disease Resistance': 7,\n",
       " 'Accelerated Healing,Dimensional Awareness,Energy Absorption,Danger Sense,Longevity,Intelligence,Super Strength,Telepathy,Super Speed,Teleportation,Telekinesis,Magic,Immortality,Element Control,Phasing,Astral Projection,Invulnerability,Energy Constructs,Precognition,Enhanced Hearing,Enhanced Sight,Molecular Manipulation,Adaptation,Probability Manipulation,Gravity Control,Energy Manipulation,Time Travel,Enhanced Smell,Omnipotent,Omnilingualism,Time Manipulation,Reality Warping,Omnipresent,Omniscient': 8,\n",
       " 'Accelerated Healing,Dimensional Awareness,Energy Absorption,Flight,Super Strength,Telepathy,Energy Blasts,Size Changing,Super Speed,Teleportation,Telekinesis,Shapeshifting,Immortality,Invulnerability,Force Fields,Psionic Powers,Energy Manipulation,Omnipotent,Reality Warping': 9,\n",
       " 'Accelerated Healing,Dimensional Awareness,Flight,Longevity,Super Strength,Telepathy,Energy Blasts,Super Speed,Teleportation,Telekinesis,Dimensional Travel,Phasing,Astral Projection,Energy Constructs,Mind Control,Molecular Manipulation,Illusions,Energy Resistance,Magnetism,Time Manipulation,Invisibility,Resurrection': 10,\n",
       " 'Accelerated Healing,Durability,Danger Sense,Super Strength,Stamina,Enhanced Senses,Shapeshifting,Camouflage,Reflexes,Elasticity,Toxin and Disease Resistance,Wallcrawling,Web Creation,Symbiote Costume': 11,\n",
       " 'Accelerated Healing,Durability,Danger Sense,Super Strength,Stamina,Super Speed,Weapon-based Powers,Jump,Shapeshifting,Reflexes,Natural Weapons,Wallcrawling,Web Creation,Symbiote Costume': 12,\n",
       " 'Accelerated Healing,Durability,Energy Absorption,Flight,Longevity,Intelligence,Super Strength,Energy Blasts,Duplication,Size Changing,Density Control,Super Speed,Teleportation,Telekinesis,Immortality,Phasing,Invulnerability,Energy Constructs,Force Fields,Self-Sustenance,Precognition,Intangibility,Molecular Manipulation,Energy Manipulation,Time Travel,Omnilingualism,Time Manipulation,Matter Absorption,Molecular Dissipation': 13,\n",
       " 'Accelerated Healing,Durability,Energy Absorption,Flight,Longevity,Intelligence,Super Strength,Stamina,Super Speed,Enhanced Senses,Jump,Invulnerability,Enhanced Hearing,Hypnokinesis,Power Suit,Enhanced Smell,Vision - Telescopic,Magic Resistance,Vision - Microscopic,Super Breath,Vision - Infrared,Vision - Heat,Vision - X-Ray': 14,\n",
       " 'Accelerated Healing,Durability,Energy Absorption,Flight,Longevity,Intelligence,Super Strength,Stamina,Super Speed,Enhanced Senses,Jump,Invulnerability,Enhanced Hearing,Hypnokinesis,Vision - Telescopic,Vision - Microscopic,Super Breath,Vision - Heat,Vision - X-Ray': 15,\n",
       " 'Accelerated Healing,Durability,Energy Absorption,Flight,Super Strength,Energy Blasts,Super Speed,Jump,Invulnerability,Force Fields,Enhanced Hearing,Vision - Telescopic,Super Breath,Vision - Heat,Vision - X-Ray': 16,\n",
       " 'Accelerated Healing,Durability,Energy Absorption,Flight,Super Strength,Energy Blasts,Super Speed,Telekinesis,Jump,Invulnerability,Enhanced Hearing,Vision - Telescopic,Super Breath,Vision - Heat,Vision - X-Ray': 17,\n",
       " 'Accelerated Healing,Durability,Energy Absorption,Flight,Super Strength,Telepathy,Energy Blasts,Size Changing,Super Speed,Darkforce Manipulation,Enhanced Senses,Phasing,Invulnerability,Self-Sustenance,Gravity Control,Energy Manipulation,Time Travel,Illusions': 18,\n",
       " 'Accelerated Healing,Durability,Energy Absorption,Flight,Underwater breathing,Marksmanship,Super Strength,Energy Blasts,Stamina,Super Speed,Weapon-based Powers,Energy Beams,Reflexes,Force Fields,Power Suit,Radiation Immunity,Vision - Telescopic,Magnetism,Invisibility,Vision - Night,Vision - Thermal': 19,\n",
       " 'Accelerated Healing,Durability,Energy Absorption,Longevity,Super Strength,Stamina,Super Speed,Jump,Radiation Control,Radiation Immunity,Toxin and Disease Resistance,Radiation Absorption': 20,\n",
       " 'Accelerated Healing,Durability,Flight,Animal Attributes,Longevity,Intelligence,Super Strength,Telepathy,Energy Blasts,Duplication,Size Changing,Stamina,Super Speed,Animal Oriented Powers,Teleportation,Telekinesis,Shapeshifting,Reflexes,Force Fields,Self-Sustenance,Power Nullifier,Mind Control,Molecular Manipulation,Mind Blast': 21,\n",
       " 'Accelerated Healing,Durability,Flight,Energy Blasts,Super Speed,Reflexes,Molecular Manipulation,Light Control,Illumination,Molecular Combustion': 22,\n",
       " 'Accelerated Healing,Durability,Flight,Intelligence,Super Strength,Stamina,Super Speed,Telekinesis,Element Control,Plant Control': 23,\n",
       " 'Accelerated Healing,Durability,Flight,Longevity,Intelligence,Super Strength,Stamina,Energy Beams,Magic,Shapeshifting,Psionic Powers,Toxin and Disease Resistance,Omnilingualism,Portal Creation': 24,\n",
       " 'Accelerated Healing,Durability,Flight,Longevity,Intelligence,Telepathy,Telekinesis,Astral Projection,Fire Control,Empathy,Precognition,Regeneration,Telepathy Resistance,Plant Control': 25,\n",
       " 'Accelerated Healing,Durability,Flight,Longevity,Super Strength,Telepathy,Stamina,Possession,Shapeshifting,Substance Secretion': 26,\n",
       " 'Accelerated Healing,Durability,Flight,Marksmanship,Weapons Master,Longevity,Intelligence,Super Strength,Telepathy,Stamina,Super Speed,Animal Oriented Powers,Weapon-based Powers,Enhanced Senses,Dimensional Travel,Enhanced Memory,Reflexes,Force Fields,Fire Resistance,Enhanced Hearing,Hypnokinesis,Enhanced Smell,Vision - Telescopic,Toxin and Disease Resistance,Magic Resistance,Vision - Microscopic,Vision - Night,Vision - Infrared,Vision - X-Ray,Vision - Thermal': 27,\n",
       " 'Accelerated Healing,Durability,Flight,Super Strength,Energy Blasts,Weapon-based Powers,Force Fields,Power Suit,Vision - Telescopic,Vision - Infrared': 28,\n",
       " 'Accelerated Healing,Durability,Flight,Super Strength,Stamina,Teleportation,Telekinesis,Dimensional Travel,Fire Control,Reflexes,Mind Control,Heat Generation,Regeneration,Illusions': 29,\n",
       " 'Accelerated Healing,Durability,Flight,Super Strength,Teleportation,Enhanced Senses,Magic,Element Control,Phasing,Fire Control,Reflexes,Energy Constructs,Intangibility,Illusions': 30,\n",
       " 'Accelerated Healing,Durability,Flight,Underwater breathing,Longevity,Super Strength,Telepathy,Stamina,Super Speed,Reflexes': 31,\n",
       " 'Accelerated Healing,Durability,Intelligence,Super Strength,Stamina,Super Speed,Reflexes,Insanity': 32,\n",
       " 'Accelerated Healing,Durability,Longevity,Intelligence,Super Strength,Stamina,Jump,Invulnerability': 33,\n",
       " 'Accelerated Healing,Durability,Longevity,Super Strength,Stamina,Camouflage,Self-Sustenance': 34,\n",
       " 'Accelerated Healing,Durability,Longevity,Super Strength,Stamina,Super Speed,Immortality,Invulnerability': 35,\n",
       " 'Accelerated Healing,Durability,Longevity,Super Strength,Stamina,Super Speed,Toxin and Disease Resistance': 36,\n",
       " 'Accelerated Healing,Durability,Stealth,Energy Absorption,Flight,Stamina,Super Speed,Energy Beams,Invulnerability,Energy Constructs,Force Fields,Elemental Transmogrification,Intangibility,Light Control,Illusions,Invisibility': 37,\n",
       " 'Accelerated Healing,Durability,Super Strength,Energy Blasts,Enhanced Senses,Magic,Jump,Immortality,Precognition,Natural Weapons': 38,\n",
       " 'Accelerated Healing,Durability,Super Strength,Jump,Fire Resistance,Regeneration': 39,\n",
       " 'Accelerated Healing,Durability,Super Strength,Stamina,Jump,Invulnerability': 40,\n",
       " 'Accelerated Healing,Durability,Super Strength,Stamina,Super Speed,Invulnerability,Force Fields,Self-Sustenance,Toxin and Disease Resistance': 41,\n",
       " 'Accelerated Healing,Durability,Weapons Master,Longevity,Super Strength,Stamina,Enhanced Senses,Magic,Invulnerability,Fire Resistance,Enhanced Sight,Heat Resistance,Grim Reaping': 42,\n",
       " 'Accelerated Healing,Energy Absorption,Flight,Longevity,Stamina,Super Speed,Enhanced Senses,Phasing,Reflexes,Energy Constructs,Self-Sustenance': 43,\n",
       " 'Accelerated Healing,Energy Absorption,Super Strength,Energy Blasts,Stamina,Invulnerability,Time Travel,Energy Resistance': 44,\n",
       " 'Accelerated Healing,Energy Blasts': 45,\n",
       " 'Accelerated Healing,Flight,Animal Attributes,Super Strength,Stamina,Animal Oriented Powers,Enhanced Senses,Shapeshifting,Precognition': 46,\n",
       " 'Accelerated Healing,Flight,Energy Blasts,Teleportation,Magic,Fire Control,Time Travel': 47,\n",
       " 'Accelerated Healing,Flight,Longevity,Intelligence,Super"
      ]
     },
     "execution_count": 39,
     "metadata": {},
     "output_type": "execute_result"
    },
    {
     "data": {
      "text/html": [
       "<b>limit_output extension: Maximum message size of 10000 exceeded with 82297 characters</b>"
      ]
     },
     "metadata": {},
     "output_type": "display_data"
    }
   ],
   "source": [
    "id_map = dict(zip(unique_ids,int_ids))\n",
    "id_map\n",
    "\n"
   ]
  },
  {
   "cell_type": "code",
   "execution_count": 42,
   "id": "a3350abd",
   "metadata": {
    "ExecuteTime": {
     "end_time": "2022-08-04T05:34:26.934650Z",
     "start_time": "2022-08-04T05:34:26.918749Z"
    },
    "scrolled": true
   },
   "outputs": [
    {
     "data": {
      "text/plain": [
       "0      295\n",
       "1       34\n",
       "2       91\n",
       "3      503\n",
       "4       58\n",
       "      ... \n",
       "662    460\n",
       "663    315\n",
       "664    256\n",
       "665    329\n",
       "666    565\n",
       "Name: Powers, Length: 667, dtype: int64"
      ]
     },
     "execution_count": 42,
     "metadata": {},
     "output_type": "execute_result"
    }
   ],
   "source": [
    "df2['Powers'].map(id_map)"
   ]
  },
  {
   "cell_type": "code",
   "execution_count": 43,
   "id": "7a75eec2",
   "metadata": {
    "ExecuteTime": {
     "end_time": "2022-08-04T05:51:08.820079Z",
     "start_time": "2022-08-04T05:51:08.759591Z"
    }
   },
   "outputs": [
    {
     "data": {
      "text/html": [
       "<div>\n",
       "<style scoped>\n",
       "    .dataframe tbody tr th:only-of-type {\n",
       "        vertical-align: middle;\n",
       "    }\n",
       "\n",
       "    .dataframe tbody tr th {\n",
       "        vertical-align: top;\n",
       "    }\n",
       "\n",
       "    .dataframe thead th {\n",
       "        text-align: right;\n",
       "    }\n",
       "</style>\n",
       "<table border=\"1\" class=\"dataframe\">\n",
       "  <thead>\n",
       "    <tr style=\"text-align: right;\">\n",
       "      <th></th>\n",
       "      <th>hero_names</th>\n",
       "      <th>Powers</th>\n",
       "    </tr>\n",
       "  </thead>\n",
       "  <tbody>\n",
       "    <tr>\n",
       "      <th>0</th>\n",
       "      <td>3-D Man</td>\n",
       "      <td>295</td>\n",
       "    </tr>\n",
       "    <tr>\n",
       "      <th>1</th>\n",
       "      <td>A-Bomb</td>\n",
       "      <td>34</td>\n",
       "    </tr>\n",
       "    <tr>\n",
       "      <th>2</th>\n",
       "      <td>Abe Sapien</td>\n",
       "      <td>91</td>\n",
       "    </tr>\n",
       "  </tbody>\n",
       "</table>\n",
       "</div>"
      ],
      "text/plain": [
       "   hero_names  Powers\n",
       "0     3-D Man     295\n",
       "1      A-Bomb      34\n",
       "2  Abe Sapien      91"
      ]
     },
     "execution_count": 43,
     "metadata": {},
     "output_type": "execute_result"
    }
   ],
   "source": [
    "df2['Powers'] = df2['Powers'].replace(id_map)\n",
    "df2.head(3)\n",
    "\n"
   ]
  },
  {
   "cell_type": "code",
   "execution_count": 45,
   "id": "f8f2a1bf",
   "metadata": {
    "ExecuteTime": {
     "end_time": "2022-08-04T05:52:34.320525Z",
     "start_time": "2022-08-04T05:52:34.308584Z"
    }
   },
   "outputs": [
    {
     "data": {
      "text/html": [
       "<div>\n",
       "<style scoped>\n",
       "    .dataframe tbody tr th:only-of-type {\n",
       "        vertical-align: middle;\n",
       "    }\n",
       "\n",
       "    .dataframe tbody tr th {\n",
       "        vertical-align: top;\n",
       "    }\n",
       "\n",
       "    .dataframe thead th {\n",
       "        text-align: right;\n",
       "    }\n",
       "</style>\n",
       "<table border=\"1\" class=\"dataframe\">\n",
       "  <thead>\n",
       "    <tr style=\"text-align: right;\">\n",
       "      <th></th>\n",
       "      <th>Powers</th>\n",
       "      <th>Power_id</th>\n",
       "    </tr>\n",
       "  </thead>\n",
       "  <tbody>\n",
       "    <tr>\n",
       "      <th>0</th>\n",
       "      <td>Accelerated Healing</td>\n",
       "      <td>0</td>\n",
       "    </tr>\n",
       "    <tr>\n",
       "      <th>1</th>\n",
       "      <td>Accelerated Healing,Cold Resistance,Durability...</td>\n",
       "      <td>1</td>\n",
       "    </tr>\n",
       "    <tr>\n",
       "      <th>2</th>\n",
       "      <td>Accelerated Healing,Cold Resistance,Durability...</td>\n",
       "      <td>2</td>\n",
       "    </tr>\n",
       "  </tbody>\n",
       "</table>\n",
       "</div>"
      ],
      "text/plain": [
       "                                              Powers  Power_id\n",
       "0                                Accelerated Healing         0\n",
       "1  Accelerated Healing,Cold Resistance,Durability...         1\n",
       "2  Accelerated Healing,Cold Resistance,Durability...         2"
      ]
     },
     "execution_count": 45,
     "metadata": {},
     "output_type": "execute_result"
    }
   ],
   "source": [
    "id_lookup = pd.DataFrame({'Powers': id_map.keys(),\n",
    "                         'Power_id':id_map.values()})\n",
    "id_lookup.head(3)\n",
    "\n"
   ]
  },
  {
   "cell_type": "code",
   "execution_count": 47,
   "id": "59901885",
   "metadata": {
    "ExecuteTime": {
     "end_time": "2022-08-04T05:54:34.015503Z",
     "start_time": "2022-08-04T05:54:34.004591Z"
    }
   },
   "outputs": [],
   "source": [
    "merged_df = pd.concat([df,df2], ignore_index=True, sort=False)"
   ]
  },
  {
   "cell_type": "code",
   "execution_count": 49,
   "id": "675ff180",
   "metadata": {
    "ExecuteTime": {
     "end_time": "2022-08-04T05:55:38.456069Z",
     "start_time": "2022-08-04T05:55:38.428789Z"
    }
   },
   "outputs": [
    {
     "data": {
      "text/plain": [
       "491.0    8\n",
       "394.0    5\n",
       "274.0    4\n",
       "513.0    4\n",
       "590.0    4\n",
       "        ..\n",
       "56.0     1\n",
       "486.0    1\n",
       "18.0     1\n",
       "170.0    1\n",
       "565.0    1\n",
       "Name: Powers, Length: 608, dtype: int64"
      ]
     },
     "execution_count": 49,
     "metadata": {},
     "output_type": "execute_result"
    }
   ],
   "source": [
    "merged_df['Powers'].value_counts()"
   ]
  }
 ],
 "metadata": {
  "hide_input": false,
  "kernelspec": {
   "display_name": "Python (dojo-env)",
   "language": "python",
   "name": "dojo-env"
  },
  "language_info": {
   "codemirror_mode": {
    "name": "ipython",
    "version": 3
   },
   "file_extension": ".py",
   "mimetype": "text/x-python",
   "name": "python",
   "nbconvert_exporter": "python",
   "pygments_lexer": "ipython3",
   "version": "3.8.13"
  },
  "latex_envs": {
   "LaTeX_envs_menu_present": true,
   "autoclose": false,
   "autocomplete": true,
   "bibliofile": "biblio.bib",
   "cite_by": "apalike",
   "current_citInitial": 1,
   "eqLabelWithNumbers": true,
   "eqNumInitial": 1,
   "hotkeys": {
    "equation": "Ctrl-E",
    "itemize": "Ctrl-I"
   },
   "labels_anchors": false,
   "latex_user_defs": false,
   "report_style_numbering": false,
   "user_envs_cfg": false
  },
  "nbTranslate": {
   "displayLangs": [
    "*"
   ],
   "hotkey": "alt-t",
   "langInMainMenu": true,
   "sourceLang": "en",
   "targetLang": "fr",
   "useGoogleTranslate": true
  },
  "toc": {
   "base_numbering": 1,
   "nav_menu": {},
   "number_sections": false,
   "sideBar": true,
   "skip_h1_title": false,
   "title_cell": "Table of Contents",
   "title_sidebar": "Contents",
   "toc_cell": false,
   "toc_position": {},
   "toc_section_display": true,
   "toc_window_display": false
  },
  "varInspector": {
   "cols": {
    "lenName": 16,
    "lenType": 16,
    "lenVar": 40
   },
   "kernels_config": {
    "python": {
     "delete_cmd_postfix": "",
     "delete_cmd_prefix": "del ",
     "library": "var_list.py",
     "varRefreshCmd": "print(var_dic_list())"
    },
    "r": {
     "delete_cmd_postfix": ") ",
     "delete_cmd_prefix": "rm(",
     "library": "var_list.r",
     "varRefreshCmd": "cat(var_dic_list()) "
    }
   },
   "types_to_exclude": [
    "module",
    "function",
    "builtin_function_or_method",
    "instance",
    "_Feature"
   ],
   "window_display": false
  }
 },
 "nbformat": 4,
 "nbformat_minor": 5
}
